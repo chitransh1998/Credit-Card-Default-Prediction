{
  "cells": [
    {
      "cell_type": "markdown",
      "metadata": {
        "id": "view-in-github",
        "colab_type": "text"
      },
      "source": [
        "<a href=\"https://colab.research.google.com/github/chitransh1998/Credit-Card-Default-Prediction/blob/main/Credit_Card_Default_Prediction_Using_Logistic_Regression.ipynb\" target=\"_parent\"><img src=\"https://colab.research.google.com/assets/colab-badge.svg\" alt=\"Open In Colab\"/></a>"
      ]
    },
    {
      "cell_type": "markdown",
      "metadata": {
        "id": "0FZeFzTWzrrd"
      },
      "source": [
        "# Credit Default Classification using Logistic Regression\n",
        "\n",
        "Here, we use scikit-learn, a popular machine learning package in python to train and tune a classifier.\n",
        "A particularly useful feature is that all classifiers (and linear models) are called using the same API, so it is easy to test between different models (see the sklearn-intro notebook for examples).\n",
        "\n",
        "## Dataset\n",
        "The dataset we use is the default of credit card clients Data Set. There are two data files: \"CreditDefault_training.csv\" and \"CreditDefault_Xtest.csv\" Both files have the following fields, except the label (\"default.payment.next.month\") which is not available in \"CreditDefault_Xtest.csv\"\n",
        "\n",
        "Features:\n",
        "\n",
        "1 - LIMIT_BAL: Amount of the given credit (NT dollar): it includes both the individual consumer credit and his/her family (supplementary) credit.\n",
        "2 - SEX: (1 = male; 2 = female)\n",
        "3- EDUCATION: (six levels: 1,2,3,4,5,6)\n",
        "4 - MARRIAGE: (1 = married; 2 = single; 3 = others)\n",
        "5 - AGE\n",
        "\n",
        "From \"PAY_1\" to \"PAY_6\": History of past payment (Repayment status: -2: Balance paid in full and no transactions this period; -1: Balance paid in full, but account has a positive balance at end of period due to recent transactions for which payment has not yet come due; 0: Customer paid the minimum due amount, but not the entire balance; 1 = payment delay for one month; 2 = payment delay for two months; . . .; 8 = payment delay for eight months; 9 = payment delay for nine months and above.)\n",
        "6 - PAY_1: the repayment status in September, 2005\n",
        "7 - PAY_2: the repayment status in August, 2005\n",
        "...\n",
        "11 - PAY_6: the repayment status in April, 2005\n",
        "\n",
        "From \"BILL_AMT1\" to \"BILL_AMT6\": Amount of bill statement (NT dollar).\n",
        "12 - BILL_AMT1 : amount of bill statement in September, 2005\n",
        "13 - BILL_AMT2 : amount of bill statement in August, 2005\n",
        "...\n",
        "17 - BILL_AMT6 : amount of bill statement in April, 2005\n",
        "\n",
        "From \"PAY_AMT1\" to \"PAY_AMT6\": Amount of previous payment (NT dollar).\n",
        "18 - PAY_AMT1 : amount paid in September, 2005\n",
        "19 - PAY_AMT2 : amount paid in August, 2005\n",
        "...\n",
        "23 - PAY_AMT6 : amount paid in April, 2005\n",
        "\n",
        "Target:\n",
        "\n",
        "default.payment.next.month: binary variable, whether default payment (Yes = 1, No = 0)\n",
        "\n",
        "Training dataset, \"CreditDefault_training.csv\", contains 3985 rows and 24 columns. This is the training set containing both of the features and the target. Test dataset, \"CreditDefault_Xtest.csv\", contains 1000 rows and 23 columns. This is the test set which only contains the features.\n",
        "\n",
        "Prediction task is to determine whether there's credit default for a person."
      ]
    },
    {
      "cell_type": "code",
      "execution_count": null,
      "metadata": {
        "id": "ZOKRx3iKPoKk"
      },
      "outputs": [],
      "source": [
        "import numpy as np\n",
        "import pandas as pd\n",
        "from google.colab import files\n",
        "import io"
      ]
    },
    {
      "cell_type": "code",
      "execution_count": null,
      "metadata": {
        "id": "wLUGs9kXQDDG",
        "colab": {
          "base_uri": "https://localhost:8080/",
          "height": 73
        },
        "outputId": "378ee1dd-7452-4320-986f-12536c8ac5f4"
      },
      "outputs": [
        {
          "output_type": "display_data",
          "data": {
            "text/plain": [
              "<IPython.core.display.HTML object>"
            ],
            "text/html": [
              "\n",
              "     <input type=\"file\" id=\"files-8ebda104-f90e-4fc0-bd8e-1f7abc669cce\" name=\"files[]\" multiple disabled\n",
              "        style=\"border:none\" />\n",
              "     <output id=\"result-8ebda104-f90e-4fc0-bd8e-1f7abc669cce\">\n",
              "      Upload widget is only available when the cell has been executed in the\n",
              "      current browser session. Please rerun this cell to enable.\n",
              "      </output>\n",
              "      <script>// Copyright 2017 Google LLC\n",
              "//\n",
              "// Licensed under the Apache License, Version 2.0 (the \"License\");\n",
              "// you may not use this file except in compliance with the License.\n",
              "// You may obtain a copy of the License at\n",
              "//\n",
              "//      http://www.apache.org/licenses/LICENSE-2.0\n",
              "//\n",
              "// Unless required by applicable law or agreed to in writing, software\n",
              "// distributed under the License is distributed on an \"AS IS\" BASIS,\n",
              "// WITHOUT WARRANTIES OR CONDITIONS OF ANY KIND, either express or implied.\n",
              "// See the License for the specific language governing permissions and\n",
              "// limitations under the License.\n",
              "\n",
              "/**\n",
              " * @fileoverview Helpers for google.colab Python module.\n",
              " */\n",
              "(function(scope) {\n",
              "function span(text, styleAttributes = {}) {\n",
              "  const element = document.createElement('span');\n",
              "  element.textContent = text;\n",
              "  for (const key of Object.keys(styleAttributes)) {\n",
              "    element.style[key] = styleAttributes[key];\n",
              "  }\n",
              "  return element;\n",
              "}\n",
              "\n",
              "// Max number of bytes which will be uploaded at a time.\n",
              "const MAX_PAYLOAD_SIZE = 100 * 1024;\n",
              "\n",
              "function _uploadFiles(inputId, outputId) {\n",
              "  const steps = uploadFilesStep(inputId, outputId);\n",
              "  const outputElement = document.getElementById(outputId);\n",
              "  // Cache steps on the outputElement to make it available for the next call\n",
              "  // to uploadFilesContinue from Python.\n",
              "  outputElement.steps = steps;\n",
              "\n",
              "  return _uploadFilesContinue(outputId);\n",
              "}\n",
              "\n",
              "// This is roughly an async generator (not supported in the browser yet),\n",
              "// where there are multiple asynchronous steps and the Python side is going\n",
              "// to poll for completion of each step.\n",
              "// This uses a Promise to block the python side on completion of each step,\n",
              "// then passes the result of the previous step as the input to the next step.\n",
              "function _uploadFilesContinue(outputId) {\n",
              "  const outputElement = document.getElementById(outputId);\n",
              "  const steps = outputElement.steps;\n",
              "\n",
              "  const next = steps.next(outputElement.lastPromiseValue);\n",
              "  return Promise.resolve(next.value.promise).then((value) => {\n",
              "    // Cache the last promise value to make it available to the next\n",
              "    // step of the generator.\n",
              "    outputElement.lastPromiseValue = value;\n",
              "    return next.value.response;\n",
              "  });\n",
              "}\n",
              "\n",
              "/**\n",
              " * Generator function which is called between each async step of the upload\n",
              " * process.\n",
              " * @param {string} inputId Element ID of the input file picker element.\n",
              " * @param {string} outputId Element ID of the output display.\n",
              " * @return {!Iterable<!Object>} Iterable of next steps.\n",
              " */\n",
              "function* uploadFilesStep(inputId, outputId) {\n",
              "  const inputElement = document.getElementById(inputId);\n",
              "  inputElement.disabled = false;\n",
              "\n",
              "  const outputElement = document.getElementById(outputId);\n",
              "  outputElement.innerHTML = '';\n",
              "\n",
              "  const pickedPromise = new Promise((resolve) => {\n",
              "    inputElement.addEventListener('change', (e) => {\n",
              "      resolve(e.target.files);\n",
              "    });\n",
              "  });\n",
              "\n",
              "  const cancel = document.createElement('button');\n",
              "  inputElement.parentElement.appendChild(cancel);\n",
              "  cancel.textContent = 'Cancel upload';\n",
              "  const cancelPromise = new Promise((resolve) => {\n",
              "    cancel.onclick = () => {\n",
              "      resolve(null);\n",
              "    };\n",
              "  });\n",
              "\n",
              "  // Wait for the user to pick the files.\n",
              "  const files = yield {\n",
              "    promise: Promise.race([pickedPromise, cancelPromise]),\n",
              "    response: {\n",
              "      action: 'starting',\n",
              "    }\n",
              "  };\n",
              "\n",
              "  cancel.remove();\n",
              "\n",
              "  // Disable the input element since further picks are not allowed.\n",
              "  inputElement.disabled = true;\n",
              "\n",
              "  if (!files) {\n",
              "    return {\n",
              "      response: {\n",
              "        action: 'complete',\n",
              "      }\n",
              "    };\n",
              "  }\n",
              "\n",
              "  for (const file of files) {\n",
              "    const li = document.createElement('li');\n",
              "    li.append(span(file.name, {fontWeight: 'bold'}));\n",
              "    li.append(span(\n",
              "        `(${file.type || 'n/a'}) - ${file.size} bytes, ` +\n",
              "        `last modified: ${\n",
              "            file.lastModifiedDate ? file.lastModifiedDate.toLocaleDateString() :\n",
              "                                    'n/a'} - `));\n",
              "    const percent = span('0% done');\n",
              "    li.appendChild(percent);\n",
              "\n",
              "    outputElement.appendChild(li);\n",
              "\n",
              "    const fileDataPromise = new Promise((resolve) => {\n",
              "      const reader = new FileReader();\n",
              "      reader.onload = (e) => {\n",
              "        resolve(e.target.result);\n",
              "      };\n",
              "      reader.readAsArrayBuffer(file);\n",
              "    });\n",
              "    // Wait for the data to be ready.\n",
              "    let fileData = yield {\n",
              "      promise: fileDataPromise,\n",
              "      response: {\n",
              "        action: 'continue',\n",
              "      }\n",
              "    };\n",
              "\n",
              "    // Use a chunked sending to avoid message size limits. See b/62115660.\n",
              "    let position = 0;\n",
              "    do {\n",
              "      const length = Math.min(fileData.byteLength - position, MAX_PAYLOAD_SIZE);\n",
              "      const chunk = new Uint8Array(fileData, position, length);\n",
              "      position += length;\n",
              "\n",
              "      const base64 = btoa(String.fromCharCode.apply(null, chunk));\n",
              "      yield {\n",
              "        response: {\n",
              "          action: 'append',\n",
              "          file: file.name,\n",
              "          data: base64,\n",
              "        },\n",
              "      };\n",
              "\n",
              "      let percentDone = fileData.byteLength === 0 ?\n",
              "          100 :\n",
              "          Math.round((position / fileData.byteLength) * 100);\n",
              "      percent.textContent = `${percentDone}% done`;\n",
              "\n",
              "    } while (position < fileData.byteLength);\n",
              "  }\n",
              "\n",
              "  // All done.\n",
              "  yield {\n",
              "    response: {\n",
              "      action: 'complete',\n",
              "    }\n",
              "  };\n",
              "}\n",
              "\n",
              "scope.google = scope.google || {};\n",
              "scope.google.colab = scope.google.colab || {};\n",
              "scope.google.colab._files = {\n",
              "  _uploadFiles,\n",
              "  _uploadFilesContinue,\n",
              "};\n",
              "})(self);\n",
              "</script> "
            ]
          },
          "metadata": {}
        },
        {
          "output_type": "stream",
          "name": "stdout",
          "text": [
            "Saving CreditDefault_training.csv to CreditDefault_training.csv\n"
          ]
        }
      ],
      "source": [
        "# Load your training data set\n",
        "uploaded = files.upload()\n",
        "df = pd.read_csv(io.BytesIO(uploaded['CreditDefault_training.csv']))"
      ]
    },
    {
      "cell_type": "code",
      "execution_count": null,
      "metadata": {
        "id": "LYPHIV6FSUI2"
      },
      "outputs": [],
      "source": [
        "# Split training data into X and y\n",
        "df_cont = df.drop(['SEX', 'EDUCATION', 'MARRIAGE', 'PAY_1', 'PAY_2', 'PAY_3', 'PAY_4', 'PAY_5', 'PAY_6', 'default.payment.next.month'], axis = 1)  #Exclude categorical and target variables\n",
        "df_cat = df[['SEX', 'EDUCATION', 'MARRIAGE', 'PAY_1', 'PAY_2', 'PAY_3', 'PAY_4', 'PAY_5', 'PAY_6']]  #categorical variables\n",
        "y = df['default.payment.next.month']\n"
      ]
    },
    {
      "cell_type": "markdown",
      "metadata": {
        "id": "YjyP9oUHTmo5"
      },
      "source": [
        "## Standardization and One-hot Encoding\n",
        "\n",
        "Standardize the continuous features and convert categorical variables ('SEX', 'EDUCATION', 'MARRIAGE', 'PAY_1', 'PAY_2', 'PAY_3', 'PAY_4', 'PAY_5', 'PAY_6') into dummy variables.<br>\n",
        "Note the situation where not all repayment status categories (-2, -1, 0, 1, 2, 3, 4, 5, 6, 7, 8, 9) necessarily appear in the training dataset for variables 'PAY_1', 'PAY_2', 'PAY_3', 'PAY_4', 'PAY_5', 'PAY_6'."
      ]
    },
    {
      "cell_type": "markdown",
      "metadata": {
        "id": "Uj3pFsrv_mv9"
      },
      "source": [
        "Standardization and one-hot encoding for training set and test set"
      ]
    },
    {
      "cell_type": "code",
      "source": [
        "# Load test data set\n",
        "uploaded = files.upload()\n",
        "df_test = pd.read_csv(io.BytesIO(uploaded['CreditDefault_Xtest.csv']))\n"
      ],
      "metadata": {
        "colab": {
          "base_uri": "https://localhost:8080/",
          "height": 56
        },
        "id": "Jd3oUfUb5yCf",
        "outputId": "6deeaa7d-78c9-45b5-9725-f36607201b0b"
      },
      "execution_count": null,
      "outputs": [
        {
          "output_type": "display_data",
          "data": {
            "text/plain": [
              "<IPython.core.display.HTML object>"
            ],
            "text/html": [
              "\n",
              "     <input type=\"file\" id=\"files-f72be17a-12f2-479d-9896-76ca0e43e6db\" name=\"files[]\" multiple disabled\n",
              "        style=\"border:none\" />\n",
              "     <output id=\"result-f72be17a-12f2-479d-9896-76ca0e43e6db\">\n",
              "      Upload widget is only available when the cell has been executed in the\n",
              "      current browser session. Please rerun this cell to enable.\n",
              "      </output>\n",
              "      <script>// Copyright 2017 Google LLC\n",
              "//\n",
              "// Licensed under the Apache License, Version 2.0 (the \"License\");\n",
              "// you may not use this file except in compliance with the License.\n",
              "// You may obtain a copy of the License at\n",
              "//\n",
              "//      http://www.apache.org/licenses/LICENSE-2.0\n",
              "//\n",
              "// Unless required by applicable law or agreed to in writing, software\n",
              "// distributed under the License is distributed on an \"AS IS\" BASIS,\n",
              "// WITHOUT WARRANTIES OR CONDITIONS OF ANY KIND, either express or implied.\n",
              "// See the License for the specific language governing permissions and\n",
              "// limitations under the License.\n",
              "\n",
              "/**\n",
              " * @fileoverview Helpers for google.colab Python module.\n",
              " */\n",
              "(function(scope) {\n",
              "function span(text, styleAttributes = {}) {\n",
              "  const element = document.createElement('span');\n",
              "  element.textContent = text;\n",
              "  for (const key of Object.keys(styleAttributes)) {\n",
              "    element.style[key] = styleAttributes[key];\n",
              "  }\n",
              "  return element;\n",
              "}\n",
              "\n",
              "// Max number of bytes which will be uploaded at a time.\n",
              "const MAX_PAYLOAD_SIZE = 100 * 1024;\n",
              "\n",
              "function _uploadFiles(inputId, outputId) {\n",
              "  const steps = uploadFilesStep(inputId, outputId);\n",
              "  const outputElement = document.getElementById(outputId);\n",
              "  // Cache steps on the outputElement to make it available for the next call\n",
              "  // to uploadFilesContinue from Python.\n",
              "  outputElement.steps = steps;\n",
              "\n",
              "  return _uploadFilesContinue(outputId);\n",
              "}\n",
              "\n",
              "// This is roughly an async generator (not supported in the browser yet),\n",
              "// where there are multiple asynchronous steps and the Python side is going\n",
              "// to poll for completion of each step.\n",
              "// This uses a Promise to block the python side on completion of each step,\n",
              "// then passes the result of the previous step as the input to the next step.\n",
              "function _uploadFilesContinue(outputId) {\n",
              "  const outputElement = document.getElementById(outputId);\n",
              "  const steps = outputElement.steps;\n",
              "\n",
              "  const next = steps.next(outputElement.lastPromiseValue);\n",
              "  return Promise.resolve(next.value.promise).then((value) => {\n",
              "    // Cache the last promise value to make it available to the next\n",
              "    // step of the generator.\n",
              "    outputElement.lastPromiseValue = value;\n",
              "    return next.value.response;\n",
              "  });\n",
              "}\n",
              "\n",
              "/**\n",
              " * Generator function which is called between each async step of the upload\n",
              " * process.\n",
              " * @param {string} inputId Element ID of the input file picker element.\n",
              " * @param {string} outputId Element ID of the output display.\n",
              " * @return {!Iterable<!Object>} Iterable of next steps.\n",
              " */\n",
              "function* uploadFilesStep(inputId, outputId) {\n",
              "  const inputElement = document.getElementById(inputId);\n",
              "  inputElement.disabled = false;\n",
              "\n",
              "  const outputElement = document.getElementById(outputId);\n",
              "  outputElement.innerHTML = '';\n",
              "\n",
              "  const pickedPromise = new Promise((resolve) => {\n",
              "    inputElement.addEventListener('change', (e) => {\n",
              "      resolve(e.target.files);\n",
              "    });\n",
              "  });\n",
              "\n",
              "  const cancel = document.createElement('button');\n",
              "  inputElement.parentElement.appendChild(cancel);\n",
              "  cancel.textContent = 'Cancel upload';\n",
              "  const cancelPromise = new Promise((resolve) => {\n",
              "    cancel.onclick = () => {\n",
              "      resolve(null);\n",
              "    };\n",
              "  });\n",
              "\n",
              "  // Wait for the user to pick the files.\n",
              "  const files = yield {\n",
              "    promise: Promise.race([pickedPromise, cancelPromise]),\n",
              "    response: {\n",
              "      action: 'starting',\n",
              "    }\n",
              "  };\n",
              "\n",
              "  cancel.remove();\n",
              "\n",
              "  // Disable the input element since further picks are not allowed.\n",
              "  inputElement.disabled = true;\n",
              "\n",
              "  if (!files) {\n",
              "    return {\n",
              "      response: {\n",
              "        action: 'complete',\n",
              "      }\n",
              "    };\n",
              "  }\n",
              "\n",
              "  for (const file of files) {\n",
              "    const li = document.createElement('li');\n",
              "    li.append(span(file.name, {fontWeight: 'bold'}));\n",
              "    li.append(span(\n",
              "        `(${file.type || 'n/a'}) - ${file.size} bytes, ` +\n",
              "        `last modified: ${\n",
              "            file.lastModifiedDate ? file.lastModifiedDate.toLocaleDateString() :\n",
              "                                    'n/a'} - `));\n",
              "    const percent = span('0% done');\n",
              "    li.appendChild(percent);\n",
              "\n",
              "    outputElement.appendChild(li);\n",
              "\n",
              "    const fileDataPromise = new Promise((resolve) => {\n",
              "      const reader = new FileReader();\n",
              "      reader.onload = (e) => {\n",
              "        resolve(e.target.result);\n",
              "      };\n",
              "      reader.readAsArrayBuffer(file);\n",
              "    });\n",
              "    // Wait for the data to be ready.\n",
              "    let fileData = yield {\n",
              "      promise: fileDataPromise,\n",
              "      response: {\n",
              "        action: 'continue',\n",
              "      }\n",
              "    };\n",
              "\n",
              "    // Use a chunked sending to avoid message size limits. See b/62115660.\n",
              "    let position = 0;\n",
              "    do {\n",
              "      const length = Math.min(fileData.byteLength - position, MAX_PAYLOAD_SIZE);\n",
              "      const chunk = new Uint8Array(fileData, position, length);\n",
              "      position += length;\n",
              "\n",
              "      const base64 = btoa(String.fromCharCode.apply(null, chunk));\n",
              "      yield {\n",
              "        response: {\n",
              "          action: 'append',\n",
              "          file: file.name,\n",
              "          data: base64,\n",
              "        },\n",
              "      };\n",
              "\n",
              "      let percentDone = fileData.byteLength === 0 ?\n",
              "          100 :\n",
              "          Math.round((position / fileData.byteLength) * 100);\n",
              "      percent.textContent = `${percentDone}% done`;\n",
              "\n",
              "    } while (position < fileData.byteLength);\n",
              "  }\n",
              "\n",
              "  // All done.\n",
              "  yield {\n",
              "    response: {\n",
              "      action: 'complete',\n",
              "    }\n",
              "  };\n",
              "}\n",
              "\n",
              "scope.google = scope.google || {};\n",
              "scope.google.colab = scope.google.colab || {};\n",
              "scope.google.colab._files = {\n",
              "  _uploadFiles,\n",
              "  _uploadFilesContinue,\n",
              "};\n",
              "})(self);\n",
              "</script> "
            ]
          },
          "metadata": {}
        },
        {
          "output_type": "stream",
          "name": "stdout",
          "text": [
            "Saving CreditDefault_Xtest.csv to CreditDefault_Xtest.csv\n"
          ]
        }
      ]
    },
    {
      "cell_type": "code",
      "source": [
        "# Split test data into X and y\n",
        "df_test_cont = df_test.drop(['SEX', 'EDUCATION', 'MARRIAGE', 'PAY_1', 'PAY_2', 'PAY_3', 'PAY_4', 'PAY_5', 'PAY_6'], axis = 1)  #Exclude categorical and target variables\n",
        "df_test_cat = df_test[['SEX', 'EDUCATION', 'MARRIAGE', 'PAY_1', 'PAY_2', 'PAY_3', 'PAY_4', 'PAY_5', 'PAY_6']]  #categorical variables\n",
        "df_test.shape\n"
      ],
      "metadata": {
        "colab": {
          "base_uri": "https://localhost:8080/"
        },
        "id": "xw240bxk52aA",
        "outputId": "21c55c31-9f46-4bd7-da27-dfc53f77ff69"
      },
      "execution_count": null,
      "outputs": [
        {
          "output_type": "execute_result",
          "data": {
            "text/plain": [
              "(1000, 23)"
            ]
          },
          "metadata": {},
          "execution_count": 6
        }
      ]
    },
    {
      "cell_type": "code",
      "execution_count": null,
      "metadata": {
        "id": "dOrWKfdlK-_z",
        "colab": {
          "base_uri": "https://localhost:8080/"
        },
        "outputId": "194d562d-1518-4757-a4e0-9107d155b61e"
      },
      "outputs": [
        {
          "output_type": "stream",
          "name": "stdout",
          "text": [
            "   SEX_1  SEX_2  EDUCATION_1  EDUCATION_2  EDUCATION_3  EDUCATION_4  \\\n",
            "0    0.0    1.0          0.0          1.0          0.0          0.0   \n",
            "1    0.0    1.0          0.0          1.0          0.0          0.0   \n",
            "2    1.0    0.0          1.0          0.0          0.0          0.0   \n",
            "3    1.0    0.0          0.0          1.0          0.0          0.0   \n",
            "4    0.0    1.0          0.0          1.0          0.0          0.0   \n",
            "\n",
            "   EDUCATION_5  EDUCATION_6  MARRIAGE_1  MARRIAGE_2  ...  PAY_4_1  PAY_4_6  \\\n",
            "0          0.0          0.0         0.0         1.0  ...        0        0   \n",
            "1          0.0          0.0         0.0         1.0  ...        0        0   \n",
            "2          0.0          0.0         1.0         0.0  ...        0        0   \n",
            "3          0.0          0.0         0.0         0.0  ...        0        0   \n",
            "4          0.0          0.0         1.0         0.0  ...        0        0   \n",
            "\n",
            "   PAY_4_8  PAY_4_9  PAY_5_1  PAY_5_8  PAY_5_9  PAY_6_1  PAY_6_8  PAY_6_9  \n",
            "0        0        0        0        0        0        0        0        0  \n",
            "1        0        0        0        0        0        0        0        0  \n",
            "2        0        0        0        0        0        0        0        0  \n",
            "3        0        0        0        0        0        0        0        0  \n",
            "4        0        0        0        0        0        0        0        0  \n",
            "\n",
            "[5 rows x 83 columns]\n",
            "The shape of encoded X: (3985, 97)\n"
          ]
        },
        {
          "output_type": "stream",
          "name": "stderr",
          "text": [
            "/usr/local/lib/python3.10/dist-packages/sklearn/preprocessing/_encoders.py:868: FutureWarning: `sparse` was renamed to `sparse_output` in version 1.2 and will be removed in 1.4. `sparse_output` is ignored unless you leave `sparse` to its default value.\n",
            "  warnings.warn(\n"
          ]
        }
      ],
      "source": [
        "#standardization and one-hot encoding\n",
        "\n",
        "#standardization and one-hot encoding for training set\n",
        "from sklearn.preprocessing import StandardScaler\n",
        "\n",
        "sc = StandardScaler()\n",
        "\n",
        "# Fitting the scaler to the training data and transforming training set\n",
        "df_cont_std = pd.DataFrame(sc.fit_transform(df_cont), columns = df_cont.columns)\n",
        "\n",
        "\n",
        "from sklearn.preprocessing import OneHotEncoder\n",
        "encoder = OneHotEncoder(sparse=False)\n",
        "\n",
        "df_cat_encoded = pd.DataFrame(encoder.fit_transform(df_cat), columns=encoder.get_feature_names_out())\n",
        "\n",
        "# Add new columns with 0 value to make sure all repayment_status appear for variables 'PAY_1', 'PAY_2', 'PAY_3', 'PAY_4', 'PAY_5', 'PAY_6'\n",
        "repayment_status_columns = ['PAY_1', 'PAY_2', 'PAY_3', 'PAY_4', 'PAY_5', 'PAY_6']\n",
        "for column in repayment_status_columns:\n",
        "    unique_categories = df[column].unique()\n",
        "    new_categories = np.setdiff1d(np.arange(-2, 10), unique_categories)\n",
        "    for new_category in new_categories:\n",
        "        df_cat_encoded[f'{column}_{new_category}'] = 0\n",
        "\n",
        "# Display the first few rows of the encoded dataframe\n",
        "print(df_cat_encoded.head())\n",
        "\n",
        "# Resetting index to align the dataframes before combining\n",
        "df_cat_encoded.reset_index(drop=True, inplace=True)\n",
        "df_cont_std.reset_index(drop=True, inplace=True)\n",
        "\n",
        "# Combining standardixed continuous and encoded categorical variables\n",
        "X = pd.concat([df_cont_std, df_cat_encoded], axis=1)\n",
        "\n",
        "# Print the shape of X\n",
        "print('The shape of encoded X:', X.shape)"
      ]
    },
    {
      "cell_type": "code",
      "source": [
        "#standardization and one-hot encoding for test set\n",
        "\n",
        "# Fitting the scaler to the test data and transforming test set\n",
        "df_test_cont_std = pd.DataFrame(sc.fit_transform(df_test_cont), columns = df_test_cont.columns)\n",
        "\n",
        "\n",
        "from sklearn.preprocessing import OneHotEncoder\n",
        "encoder = OneHotEncoder(sparse=False)\n",
        "\n",
        "df_test_cat_encoded = pd.DataFrame(encoder.fit_transform(df_test_cat), columns=encoder.get_feature_names_out())\n",
        "\n",
        "# Add new columns with 0 value to make sure all repayment_status appear for variables 'PAY_1', 'PAY_2', 'PAY_3', 'PAY_4', 'PAY_5', 'PAY_6'\n",
        "repayment_status_columns = ['PAY_1', 'PAY_2', 'PAY_3', 'PAY_4', 'PAY_5', 'PAY_6']\n",
        "for column in repayment_status_columns:\n",
        "    unique_categories_test = df_test[column].unique()\n",
        "    new_categories_test = np.setdiff1d(np.arange(-2, 10), unique_categories_test)\n",
        "    for new_category_test in new_categories_test:\n",
        "        df_test_cat_encoded[f'{column}_{new_category_test}'] = 0\n",
        "\n",
        "# Display the first few rows of the encoded dataframe\n",
        "print(df_test_cat_encoded.head())\n",
        "\n",
        "# Resetting index to align the dataframes before combining\n",
        "df_test_cat_encoded.reset_index(drop=True, inplace=True)\n",
        "df_test_cont_std.reset_index(drop=True, inplace=True)\n",
        "\n",
        "# Combining standardixed continuous and encoded categorical variables\n",
        "X_test = pd.concat([df_test_cont_std, df_test_cat_encoded], axis=1)\n",
        "\n",
        "# Ensure the number of features in the test set matches the trained model\n",
        "if X_test.shape[1] < X.shape[1]:\n",
        "    # Add missing columns in the test set and set their values to 0\n",
        "    missing_columns = np.setdiff1d(X.columns, X_test.columns)\n",
        "    for missing_column in missing_columns:\n",
        "        X_test[missing_column] = 0\n",
        "# Print the shape of your X\n",
        "print('The shape of encoded X_test:', X_test.shape)\n",
        "print(list(X_test.columns))"
      ],
      "metadata": {
        "colab": {
          "base_uri": "https://localhost:8080/"
        },
        "id": "pWxkqd7h64Ib",
        "outputId": "b5798c72-fbe5-47c8-90fa-bec1356c6b22"
      },
      "execution_count": null,
      "outputs": [
        {
          "output_type": "stream",
          "name": "stdout",
          "text": [
            "   SEX_1  SEX_2  EDUCATION_1  EDUCATION_2  EDUCATION_3  EDUCATION_4  \\\n",
            "0    1.0    0.0          0.0          0.0          0.0          0.0   \n",
            "1    1.0    0.0          1.0          0.0          0.0          0.0   \n",
            "2    0.0    1.0          1.0          0.0          0.0          0.0   \n",
            "3    0.0    1.0          0.0          1.0          0.0          0.0   \n",
            "4    1.0    0.0          1.0          0.0          0.0          0.0   \n",
            "\n",
            "   EDUCATION_5  EDUCATION_6  MARRIAGE_1  MARRIAGE_2  ...  PAY_5_6  PAY_5_7  \\\n",
            "0          0.0          1.0         1.0         0.0  ...        0        0   \n",
            "1          0.0          0.0         0.0         1.0  ...        0        0   \n",
            "2          0.0          0.0         1.0         0.0  ...        0        0   \n",
            "3          0.0          0.0         0.0         1.0  ...        0        0   \n",
            "4          0.0          0.0         1.0         0.0  ...        0        0   \n",
            "\n",
            "   PAY_5_8  PAY_5_9  PAY_6_1  PAY_6_5  PAY_6_6  PAY_6_7  PAY_6_8  PAY_6_9  \n",
            "0        0        0        0        0        0        0        0        0  \n",
            "1        0        0        0        0        0        0        0        0  \n",
            "2        0        0        0        0        0        0        0        0  \n",
            "3        0        0        0        0        0        0        0        0  \n",
            "4        0        0        0        0        0        0        0        0  \n",
            "\n",
            "[5 rows x 83 columns]\n",
            "The shape of encoded X_test: (1000, 97)\n",
            "['LIMIT_BAL', 'AGE', 'BILL_AMT1', 'BILL_AMT2', 'BILL_AMT3', 'BILL_AMT4', 'BILL_AMT5', 'BILL_AMT6', 'PAY_AMT1', 'PAY_AMT2', 'PAY_AMT3', 'PAY_AMT4', 'PAY_AMT5', 'PAY_AMT6', 'SEX_1', 'SEX_2', 'EDUCATION_1', 'EDUCATION_2', 'EDUCATION_3', 'EDUCATION_4', 'EDUCATION_5', 'EDUCATION_6', 'MARRIAGE_1', 'MARRIAGE_2', 'MARRIAGE_3', 'PAY_1_-2', 'PAY_1_-1', 'PAY_1_0', 'PAY_1_1', 'PAY_1_2', 'PAY_1_3', 'PAY_1_4', 'PAY_1_5', 'PAY_1_8', 'PAY_2_-2', 'PAY_2_-1', 'PAY_2_0', 'PAY_2_1', 'PAY_2_2', 'PAY_2_3', 'PAY_2_4', 'PAY_2_6', 'PAY_2_7', 'PAY_3_-2', 'PAY_3_-1', 'PAY_3_0', 'PAY_3_2', 'PAY_3_3', 'PAY_3_4', 'PAY_3_5', 'PAY_3_6', 'PAY_4_-2', 'PAY_4_-1', 'PAY_4_0', 'PAY_4_2', 'PAY_4_3', 'PAY_4_4', 'PAY_4_5', 'PAY_5_-2', 'PAY_5_-1', 'PAY_5_0', 'PAY_5_2', 'PAY_5_3', 'PAY_5_4', 'PAY_5_5', 'PAY_6_-2', 'PAY_6_-1', 'PAY_6_0', 'PAY_6_2', 'PAY_6_3', 'PAY_6_4', 'PAY_1_6', 'PAY_1_7', 'PAY_1_9', 'PAY_2_5', 'PAY_2_8', 'PAY_2_9', 'PAY_3_1', 'PAY_3_7', 'PAY_3_8', 'PAY_3_9', 'PAY_4_1', 'PAY_4_6', 'PAY_4_7', 'PAY_4_8', 'PAY_4_9', 'PAY_5_1', 'PAY_5_6', 'PAY_5_7', 'PAY_5_8', 'PAY_5_9', 'PAY_6_1', 'PAY_6_5', 'PAY_6_6', 'PAY_6_7', 'PAY_6_8', 'PAY_6_9']\n"
          ]
        },
        {
          "output_type": "stream",
          "name": "stderr",
          "text": [
            "/usr/local/lib/python3.10/dist-packages/sklearn/preprocessing/_encoders.py:868: FutureWarning: `sparse` was renamed to `sparse_output` in version 1.2 and will be removed in 1.4. `sparse_output` is ignored unless you leave `sparse` to its default value.\n",
            "  warnings.warn(\n"
          ]
        }
      ]
    },
    {
      "cell_type": "markdown",
      "metadata": {
        "id": "D_e0eeNz55Cg"
      },
      "source": [
        "**Splitting training data into training and validation set (70:30 ratio) (the code has been provided)**"
      ]
    },
    {
      "cell_type": "code",
      "execution_count": null,
      "metadata": {
        "id": "dveoLnWM7mt4"
      },
      "outputs": [],
      "source": [
        "from sklearn.model_selection import train_test_split\n",
        "X_train, X_val, y_train, y_val = train_test_split(X, y, test_size=0.3, random_state=42)"
      ]
    },
    {
      "cell_type": "markdown",
      "metadata": {
        "id": "-BteEz3T83c7"
      },
      "source": [
        "Print the shape of X_train, y_train, X_val"
      ]
    },
    {
      "cell_type": "code",
      "execution_count": null,
      "metadata": {
        "id": "IAmEc8hJ86sF",
        "colab": {
          "base_uri": "https://localhost:8080/"
        },
        "outputId": "aba370e2-1eb6-4e5d-e26a-7ab19d3c06c9"
      },
      "outputs": [
        {
          "output_type": "stream",
          "name": "stdout",
          "text": [
            "X_train: (2789, 97)\n",
            "y_train: (2789,)\n",
            "X_val: (1196, 97)\n"
          ]
        }
      ],
      "source": [
        "print(\"X_train:\", X_train.shape)\n",
        "print(\"y_train:\", y_train.shape)\n",
        "print(\"X_val:\", X_val.shape)"
      ]
    },
    {
      "cell_type": "markdown",
      "metadata": {
        "id": "6D2n5k-L-BrM"
      },
      "source": [
        "## Logistic Regression\n",
        "\n",
        "As previously mentioned, the scikit-learn classification API makes it easy to train a classifier.\n",
        "\n",
        "\n",
        "Use LogisticRegression from sklearn.linear_model to make a logistic regression classifier."
      ]
    },
    {
      "cell_type": "code",
      "execution_count": null,
      "metadata": {
        "id": "NNJEfTx8-Mqj"
      },
      "outputs": [],
      "source": [
        "from sklearn.linear_model import LogisticRegression"
      ]
    },
    {
      "cell_type": "code",
      "execution_count": null,
      "metadata": {
        "id": "236FjZN8-S8x",
        "colab": {
          "base_uri": "https://localhost:8080/",
          "height": 213
        },
        "outputId": "f1529ed8-2c8f-4430-cc04-ee10a70ac477"
      },
      "outputs": [
        {
          "output_type": "stream",
          "name": "stderr",
          "text": [
            "/usr/local/lib/python3.10/dist-packages/sklearn/linear_model/_logistic.py:458: ConvergenceWarning: lbfgs failed to converge (status=1):\n",
            "STOP: TOTAL NO. of ITERATIONS REACHED LIMIT.\n",
            "\n",
            "Increase the number of iterations (max_iter) or scale the data as shown in:\n",
            "    https://scikit-learn.org/stable/modules/preprocessing.html\n",
            "Please also refer to the documentation for alternative solver options:\n",
            "    https://scikit-learn.org/stable/modules/linear_model.html#logistic-regression\n",
            "  n_iter_i = _check_optimize_result(\n"
          ]
        },
        {
          "output_type": "execute_result",
          "data": {
            "text/plain": [
              "LogisticRegression()"
            ],
            "text/html": [
              "<style>#sk-container-id-1 {color: black;background-color: white;}#sk-container-id-1 pre{padding: 0;}#sk-container-id-1 div.sk-toggleable {background-color: white;}#sk-container-id-1 label.sk-toggleable__label {cursor: pointer;display: block;width: 100%;margin-bottom: 0;padding: 0.3em;box-sizing: border-box;text-align: center;}#sk-container-id-1 label.sk-toggleable__label-arrow:before {content: \"▸\";float: left;margin-right: 0.25em;color: #696969;}#sk-container-id-1 label.sk-toggleable__label-arrow:hover:before {color: black;}#sk-container-id-1 div.sk-estimator:hover label.sk-toggleable__label-arrow:before {color: black;}#sk-container-id-1 div.sk-toggleable__content {max-height: 0;max-width: 0;overflow: hidden;text-align: left;background-color: #f0f8ff;}#sk-container-id-1 div.sk-toggleable__content pre {margin: 0.2em;color: black;border-radius: 0.25em;background-color: #f0f8ff;}#sk-container-id-1 input.sk-toggleable__control:checked~div.sk-toggleable__content {max-height: 200px;max-width: 100%;overflow: auto;}#sk-container-id-1 input.sk-toggleable__control:checked~label.sk-toggleable__label-arrow:before {content: \"▾\";}#sk-container-id-1 div.sk-estimator input.sk-toggleable__control:checked~label.sk-toggleable__label {background-color: #d4ebff;}#sk-container-id-1 div.sk-label input.sk-toggleable__control:checked~label.sk-toggleable__label {background-color: #d4ebff;}#sk-container-id-1 input.sk-hidden--visually {border: 0;clip: rect(1px 1px 1px 1px);clip: rect(1px, 1px, 1px, 1px);height: 1px;margin: -1px;overflow: hidden;padding: 0;position: absolute;width: 1px;}#sk-container-id-1 div.sk-estimator {font-family: monospace;background-color: #f0f8ff;border: 1px dotted black;border-radius: 0.25em;box-sizing: border-box;margin-bottom: 0.5em;}#sk-container-id-1 div.sk-estimator:hover {background-color: #d4ebff;}#sk-container-id-1 div.sk-parallel-item::after {content: \"\";width: 100%;border-bottom: 1px solid gray;flex-grow: 1;}#sk-container-id-1 div.sk-label:hover label.sk-toggleable__label {background-color: #d4ebff;}#sk-container-id-1 div.sk-serial::before {content: \"\";position: absolute;border-left: 1px solid gray;box-sizing: border-box;top: 0;bottom: 0;left: 50%;z-index: 0;}#sk-container-id-1 div.sk-serial {display: flex;flex-direction: column;align-items: center;background-color: white;padding-right: 0.2em;padding-left: 0.2em;position: relative;}#sk-container-id-1 div.sk-item {position: relative;z-index: 1;}#sk-container-id-1 div.sk-parallel {display: flex;align-items: stretch;justify-content: center;background-color: white;position: relative;}#sk-container-id-1 div.sk-item::before, #sk-container-id-1 div.sk-parallel-item::before {content: \"\";position: absolute;border-left: 1px solid gray;box-sizing: border-box;top: 0;bottom: 0;left: 50%;z-index: -1;}#sk-container-id-1 div.sk-parallel-item {display: flex;flex-direction: column;z-index: 1;position: relative;background-color: white;}#sk-container-id-1 div.sk-parallel-item:first-child::after {align-self: flex-end;width: 50%;}#sk-container-id-1 div.sk-parallel-item:last-child::after {align-self: flex-start;width: 50%;}#sk-container-id-1 div.sk-parallel-item:only-child::after {width: 0;}#sk-container-id-1 div.sk-dashed-wrapped {border: 1px dashed gray;margin: 0 0.4em 0.5em 0.4em;box-sizing: border-box;padding-bottom: 0.4em;background-color: white;}#sk-container-id-1 div.sk-label label {font-family: monospace;font-weight: bold;display: inline-block;line-height: 1.2em;}#sk-container-id-1 div.sk-label-container {text-align: center;}#sk-container-id-1 div.sk-container {/* jupyter's `normalize.less` sets `[hidden] { display: none; }` but bootstrap.min.css set `[hidden] { display: none !important; }` so we also need the `!important` here to be able to override the default hidden behavior on the sphinx rendered scikit-learn.org. See: https://github.com/scikit-learn/scikit-learn/issues/21755 */display: inline-block !important;position: relative;}#sk-container-id-1 div.sk-text-repr-fallback {display: none;}</style><div id=\"sk-container-id-1\" class=\"sk-top-container\"><div class=\"sk-text-repr-fallback\"><pre>LogisticRegression()</pre><b>In a Jupyter environment, please rerun this cell to show the HTML representation or trust the notebook. <br />On GitHub, the HTML representation is unable to render, please try loading this page with nbviewer.org.</b></div><div class=\"sk-container\" hidden><div class=\"sk-item\"><div class=\"sk-estimator sk-toggleable\"><input class=\"sk-toggleable__control sk-hidden--visually\" id=\"sk-estimator-id-1\" type=\"checkbox\" checked><label for=\"sk-estimator-id-1\" class=\"sk-toggleable__label sk-toggleable__label-arrow\">LogisticRegression</label><div class=\"sk-toggleable__content\"><pre>LogisticRegression()</pre></div></div></div></div></div>"
            ]
          },
          "metadata": {},
          "execution_count": 16
        }
      ],
      "source": [
        "# First, initialize the classifier with default parameters\n",
        "# then fit the classifier on training data and labels\n",
        "\n",
        "### WRITE CODE HERE ###\n",
        "classifier = LogisticRegression()\n",
        "classifier.fit(X_train, y_train)"
      ]
    },
    {
      "cell_type": "code",
      "execution_count": null,
      "metadata": {
        "id": "RpE2jWXEFgW1",
        "colab": {
          "base_uri": "https://localhost:8080/",
          "height": 74
        },
        "outputId": "bcb60b2d-586a-40be-a7a4-044194f48c9d"
      },
      "outputs": [
        {
          "output_type": "execute_result",
          "data": {
            "text/plain": [
              "LogisticRegression(max_iter=200)"
            ],
            "text/html": [
              "<style>#sk-container-id-2 {color: black;background-color: white;}#sk-container-id-2 pre{padding: 0;}#sk-container-id-2 div.sk-toggleable {background-color: white;}#sk-container-id-2 label.sk-toggleable__label {cursor: pointer;display: block;width: 100%;margin-bottom: 0;padding: 0.3em;box-sizing: border-box;text-align: center;}#sk-container-id-2 label.sk-toggleable__label-arrow:before {content: \"▸\";float: left;margin-right: 0.25em;color: #696969;}#sk-container-id-2 label.sk-toggleable__label-arrow:hover:before {color: black;}#sk-container-id-2 div.sk-estimator:hover label.sk-toggleable__label-arrow:before {color: black;}#sk-container-id-2 div.sk-toggleable__content {max-height: 0;max-width: 0;overflow: hidden;text-align: left;background-color: #f0f8ff;}#sk-container-id-2 div.sk-toggleable__content pre {margin: 0.2em;color: black;border-radius: 0.25em;background-color: #f0f8ff;}#sk-container-id-2 input.sk-toggleable__control:checked~div.sk-toggleable__content {max-height: 200px;max-width: 100%;overflow: auto;}#sk-container-id-2 input.sk-toggleable__control:checked~label.sk-toggleable__label-arrow:before {content: \"▾\";}#sk-container-id-2 div.sk-estimator input.sk-toggleable__control:checked~label.sk-toggleable__label {background-color: #d4ebff;}#sk-container-id-2 div.sk-label input.sk-toggleable__control:checked~label.sk-toggleable__label {background-color: #d4ebff;}#sk-container-id-2 input.sk-hidden--visually {border: 0;clip: rect(1px 1px 1px 1px);clip: rect(1px, 1px, 1px, 1px);height: 1px;margin: -1px;overflow: hidden;padding: 0;position: absolute;width: 1px;}#sk-container-id-2 div.sk-estimator {font-family: monospace;background-color: #f0f8ff;border: 1px dotted black;border-radius: 0.25em;box-sizing: border-box;margin-bottom: 0.5em;}#sk-container-id-2 div.sk-estimator:hover {background-color: #d4ebff;}#sk-container-id-2 div.sk-parallel-item::after {content: \"\";width: 100%;border-bottom: 1px solid gray;flex-grow: 1;}#sk-container-id-2 div.sk-label:hover label.sk-toggleable__label {background-color: #d4ebff;}#sk-container-id-2 div.sk-serial::before {content: \"\";position: absolute;border-left: 1px solid gray;box-sizing: border-box;top: 0;bottom: 0;left: 50%;z-index: 0;}#sk-container-id-2 div.sk-serial {display: flex;flex-direction: column;align-items: center;background-color: white;padding-right: 0.2em;padding-left: 0.2em;position: relative;}#sk-container-id-2 div.sk-item {position: relative;z-index: 1;}#sk-container-id-2 div.sk-parallel {display: flex;align-items: stretch;justify-content: center;background-color: white;position: relative;}#sk-container-id-2 div.sk-item::before, #sk-container-id-2 div.sk-parallel-item::before {content: \"\";position: absolute;border-left: 1px solid gray;box-sizing: border-box;top: 0;bottom: 0;left: 50%;z-index: -1;}#sk-container-id-2 div.sk-parallel-item {display: flex;flex-direction: column;z-index: 1;position: relative;background-color: white;}#sk-container-id-2 div.sk-parallel-item:first-child::after {align-self: flex-end;width: 50%;}#sk-container-id-2 div.sk-parallel-item:last-child::after {align-self: flex-start;width: 50%;}#sk-container-id-2 div.sk-parallel-item:only-child::after {width: 0;}#sk-container-id-2 div.sk-dashed-wrapped {border: 1px dashed gray;margin: 0 0.4em 0.5em 0.4em;box-sizing: border-box;padding-bottom: 0.4em;background-color: white;}#sk-container-id-2 div.sk-label label {font-family: monospace;font-weight: bold;display: inline-block;line-height: 1.2em;}#sk-container-id-2 div.sk-label-container {text-align: center;}#sk-container-id-2 div.sk-container {/* jupyter's `normalize.less` sets `[hidden] { display: none; }` but bootstrap.min.css set `[hidden] { display: none !important; }` so we also need the `!important` here to be able to override the default hidden behavior on the sphinx rendered scikit-learn.org. See: https://github.com/scikit-learn/scikit-learn/issues/21755 */display: inline-block !important;position: relative;}#sk-container-id-2 div.sk-text-repr-fallback {display: none;}</style><div id=\"sk-container-id-2\" class=\"sk-top-container\"><div class=\"sk-text-repr-fallback\"><pre>LogisticRegression(max_iter=200)</pre><b>In a Jupyter environment, please rerun this cell to show the HTML representation or trust the notebook. <br />On GitHub, the HTML representation is unable to render, please try loading this page with nbviewer.org.</b></div><div class=\"sk-container\" hidden><div class=\"sk-item\"><div class=\"sk-estimator sk-toggleable\"><input class=\"sk-toggleable__control sk-hidden--visually\" id=\"sk-estimator-id-2\" type=\"checkbox\" checked><label for=\"sk-estimator-id-2\" class=\"sk-toggleable__label sk-toggleable__label-arrow\">LogisticRegression</label><div class=\"sk-toggleable__content\"><pre>LogisticRegression(max_iter=200)</pre></div></div></div></div></div>"
            ]
          },
          "metadata": {},
          "execution_count": 18
        }
      ],
      "source": [
        "# If there is any ConvergenceWarning, increase the number of iterations. (Let max_iter = 200)\n",
        "### WRITE CODE HERE ###\n",
        "classifier = LogisticRegression(max_iter = 200)\n",
        "classifier.fit(X_train, y_train)"
      ]
    },
    {
      "cell_type": "code",
      "execution_count": null,
      "metadata": {
        "id": "UKR98kFw_lQO"
      },
      "outputs": [],
      "source": [
        "# predict the output for validation dataset\n",
        "### WRITE CODE HERE\n",
        "y_pred = classifier.predict(X_val)"
      ]
    },
    {
      "cell_type": "code",
      "source": [
        "#Converting y_val to an array\n",
        "y_val_arr = (np.array(y_val).reshape(-1, 1))"
      ],
      "metadata": {
        "id": "lArwj70c7b-w"
      },
      "execution_count": null,
      "outputs": []
    },
    {
      "cell_type": "markdown",
      "metadata": {
        "id": "gAaWBNcsAlF2"
      },
      "source": [
        "Implement my_precision(), my_recall(), my_accuracy() by yourselves"
      ]
    },
    {
      "cell_type": "code",
      "execution_count": null,
      "metadata": {
        "id": "SC-_P6AoAuQJ"
      },
      "outputs": [],
      "source": [
        "def my_precision(y, y_preds): #TP/(TP+FP)\n",
        "  tp = 0\n",
        "  fp = 0\n",
        "  tn = 0\n",
        "  fn = 0\n",
        "\n",
        "  for i in range(len(y_preds)):\n",
        "    if y_preds[i] == 1 and y[i] == 1:\n",
        "        tp += 1\n",
        "    elif y_preds[i] == 1 and y[i] == 0:\n",
        "        fp += 1\n",
        "    elif y_preds[i] == 0 and y[i] == 0:\n",
        "        tn += 1\n",
        "    elif y_preds[i] == 0 and y[i] == 1:\n",
        "        fn += 1\n",
        "\n",
        "  precision = tp/(tp+fp)\n",
        "  return precision\n",
        "\n",
        "def my_recall(y, y_preds): #TP/(TP+FN)\n",
        "  tp = 0\n",
        "  fp = 0\n",
        "  tn = 0\n",
        "  fn = 0\n",
        "\n",
        "  for i in range(len(y_preds)):\n",
        "    if y_preds[i] == 1 and y[i] == 1:\n",
        "        tp += 1\n",
        "    elif y_preds[i] == 1 and y[i] == 0:\n",
        "        fp += 1\n",
        "    elif y_preds[i] == 0 and y[i] == 0:\n",
        "        tn += 1\n",
        "    elif y_preds[i] == 0 and y[i] == 1:\n",
        "        fn += 1\n",
        "\n",
        "  recall = tp/(tp+fn)\n",
        "  return recall\n",
        "\n",
        "\n",
        "def my_accuracy(y, y_preds): #(TP+TN)/(TP+FP+FN+TN)\n",
        "  tp = 0\n",
        "  fp = 0\n",
        "  tn = 0\n",
        "  fn = 0\n",
        "\n",
        "  for i in range(len(y_preds)):\n",
        "    if y_preds[i] == 1 and y[i] == 1:\n",
        "        tp += 1\n",
        "    elif y_preds[i] == 1 and y[i] == 0:\n",
        "        fp += 1\n",
        "    elif y_preds[i] == 0 and y[i] == 0:\n",
        "        tn += 1\n",
        "    elif y_preds[i] == 0 and y[i] == 1:\n",
        "        fn += 1\n",
        "\n",
        "  accuracy = (tp+tn)/(tp+fp+fn+tn)\n",
        "  return accuracy"
      ]
    },
    {
      "cell_type": "markdown",
      "metadata": {
        "id": "6x6-GqJ5Mp06"
      },
      "source": [
        "Use your above functions to compute precision, recall, and accuracy of your model on validation set:"
      ]
    },
    {
      "cell_type": "code",
      "execution_count": null,
      "metadata": {
        "id": "MsQSYMcaMl1S",
        "colab": {
          "base_uri": "https://localhost:8080/"
        },
        "outputId": "6ff8a11b-7c61-47cc-bfad-0ee223f20fe2"
      },
      "outputs": [
        {
          "output_type": "stream",
          "name": "stdout",
          "text": [
            "Precision: 0.6610\n",
            "Recall: 0.4333\n",
            "Accuracy: 0.8219\n"
          ]
        }
      ],
      "source": [
        "### WRITE CODE HERE\n",
        "# Calculate Precision\n",
        "precision = my_precision(y_val_arr, y_pred)\n",
        "\n",
        "# Calculate Recall\n",
        "recall = my_recall(y_val_arr, y_pred)\n",
        "\n",
        "# Calculate Accuracy\n",
        "accuracy = my_accuracy(y_val_arr, y_pred)\n",
        "\n",
        "# Print the results\n",
        "print(f'Precision: {precision:.4f}')\n",
        "print(f'Recall: {recall:.4f}')\n",
        "print(f'Accuracy: {accuracy:.4f}')"
      ]
    },
    {
      "cell_type": "markdown",
      "metadata": {
        "id": "RKXWHHJ1OsMZ"
      },
      "source": [
        "Q. Accuracy<br>\n",
        "Ans - The accuracy is 0.8219.\n",
        "\n",
        "Q. Precision<br>\n",
        "Ans - The precision is 0.6610.\n",
        "\n",
        "Q. Recall<br>\n",
        "Ans - The recall is 0.4333.\n",
        "\n",
        "Q. Which metric (accuracy, precision, recall) is more appropriate and in what cases? Will there be scenarios where it is better to use precision than accuracy? Explain. <br>\n",
        "Ans -   Accuracy is a good metric when the class distribution is roughly equal. It provides an overall measure of how well your model is performing across all classes.\n",
        "\n",
        "Precision is crucial when the cost of false positives is high. For example, in email spam detection, a high precision model would not incorrectly classify important emails as spam.\n",
        "\n",
        "Recall is important when the cost of false negatives is high.It is especially crucial in cases where missing a positive instance is costly. For example, in medical diagnosis, a high recall model would identify most patients with a disease, minimizing the chance of missing a diagnosis.\n",
        "\n",
        "If the dataset has a significant class imbalance, and the cost of false positives is high, precision might be a more appropriate metric than accuracy.\n",
        "\n",
        "Q. Which metric is suitable in this case? <br>\n",
        "Ans - Recall is suitable in this case as missing out defaults (false negatives) is costly."
      ]
    },
    {
      "cell_type": "markdown",
      "metadata": {
        "id": "6Bflc8MVP3K7"
      },
      "source": [
        "### ROC curve\n",
        "\n",
        "Use roc_Curve from sklearn.metrics and use matplotlib.pyplot to plot the ROC curve. Use validation set to make predictions and to draw ROC curve."
      ]
    },
    {
      "cell_type": "code",
      "execution_count": null,
      "metadata": {
        "id": "51E1Wc2QQDqt",
        "colab": {
          "base_uri": "https://localhost:8080/",
          "height": 472
        },
        "outputId": "78c3dd76-9d57-4251-837c-88e271c6d57e"
      },
      "outputs": [
        {
          "output_type": "display_data",
          "data": {
            "text/plain": [
              "<Figure size 640x480 with 1 Axes>"
            ],
            "image/png": "[encoded data removed]"
          },
          "metadata": {}
        }
      ],
      "source": [
        "# Plot the ROC curve by giving appropriate names for title and axes.\n",
        "from sklearn.metrics import roc_curve, auc\n",
        "import sklearn.metrics as metrics\n",
        "import matplotlib.pyplot as plt\n",
        "\n",
        "# Compute ROC curve and ROC area\n",
        "fpr, tpr, thresholds = roc_curve(y_val, y_pred)\n",
        "roc_auc = auc(fpr, tpr)\n",
        "\n",
        "# Plotting the ROC curve\n",
        "plt.figure()\n",
        "plt.plot(fpr, tpr, color='darkorange', lw=2, label='ROC curve (area = %0.2f)' % roc_auc)\n",
        "plt.plot([0, 1], [0, 1], color='navy', lw=2, linestyle='--')\n",
        "plt.xlim([0.0, 1.0])\n",
        "plt.ylim([0.0, 1.05])\n",
        "plt.xlabel('False Positive Rate')\n",
        "plt.ylabel('True Positive Rate')\n",
        "plt.title('Receiver Operating Characteristic')\n",
        "plt.legend(loc=\"lower right\")\n",
        "plt.show()"
      ]
    },
    {
      "cell_type": "markdown",
      "metadata": {
        "id": "OK9uSsm4Qdfu"
      },
      "source": [
        "Q. What is the AUC obtained?<br>\n",
        "Ans - The AUC obtained is 0.6843."
      ]
    },
    {
      "cell_type": "markdown",
      "metadata": {
        "id": "E9X_maKDT63P"
      },
      "source": [
        "## Hyperparameters\n",
        "\n",
        "\"Model tuning\" refers to model adjustments to better fit the data, which is separate from \"fitting\" or \"training\" the model.\n"
      ]
    },
    {
      "cell_type": "markdown",
      "metadata": {
        "id": "OQMd79-sUEUr"
      },
      "source": [
        "Build a model with hyperparameter 'C' set to 0.1 and penalty set to 'l1'. Make predictions on validation set and compute accuracy, precision and recall."
      ]
    },
    {
      "cell_type": "code",
      "execution_count": null,
      "metadata": {
        "id": "1n6cx2_KUFYw",
        "colab": {
          "base_uri": "https://localhost:8080/"
        },
        "outputId": "54373236-9246-4d6f-e2a7-683ccd46a038"
      },
      "outputs": [
        {
          "output_type": "stream",
          "name": "stdout",
          "text": [
            "Best Parameters: {'C': 0.1, 'penalty': 'l1', 'solver': 'liblinear'}\n",
            "Best Score: 0.8088891462841772\n",
            "Precision: 0.6805\n",
            "Recall: 0.4259\n",
            "Accuracy: 0.8253\n"
          ]
        }
      ],
      "source": [
        "### WRITE CODE HERE\n",
        "from sklearn.model_selection import GridSearchCV\n",
        "from sklearn.linear_model import LogisticRegression\n",
        "classifier = LogisticRegression(max_iter=1800)\n",
        "param_grid = {\n",
        "    'penalty': ['l1'],\n",
        "    'C': [0.1],\n",
        "    'solver': ['liblinear', 'saga']\n",
        "}\n",
        "grid_search = GridSearchCV(classifier, param_grid, cv=5, scoring='accuracy')\n",
        "grid_search.fit(X_train, y_train)\n",
        "\n",
        "best_params = grid_search.best_params_\n",
        "best_score = grid_search.best_score_\n",
        "print(\"Best Parameters:\", best_params)\n",
        "print(f'Best Score: {best_score:.4f}')\n",
        "\n",
        "best_classifier = grid_search.best_estimator_\n",
        "y_pred = best_classifier.predict(X_val)\n",
        "\n",
        "precision = my_precision(y_val_arr, y_pred)\n",
        "recall = my_recall(y_val_arr, y_pred)\n",
        "accuracy = my_accuracy(y_val_arr, y_pred)\n",
        "print(f'Precision: {precision:.4f}')\n",
        "print(f'Recall: {recall:.4f}')\n",
        "print(f'Accuracy: {accuracy:.4f}')"
      ]
    },
    {
      "cell_type": "markdown",
      "metadata": {
        "id": "kFYJ5hU-U7hL"
      },
      "source": [
        "Build a model with hyperparameter 'C' set to 0.5 and penalty set to 'l1'. Make predictions on validation set and compute accuracy, precision and recall."
      ]
    },
    {
      "cell_type": "code",
      "execution_count": null,
      "metadata": {
        "id": "3fnH0Pt9U8KT",
        "colab": {
          "base_uri": "https://localhost:8080/"
        },
        "outputId": "ab56bf51-0671-4bd0-fc91-9141c9d233e8"
      },
      "outputs": [
        {
          "output_type": "stream",
          "name": "stdout",
          "text": [
            "Best Parameters: {'C': 0.5, 'penalty': 'l1', 'solver': 'liblinear'}\n",
            "Best Score: 0.814984266712998\n",
            "Precision: 0.6686\n",
            "Recall: 0.4333\n",
            "Accuracy: 0.8236\n"
          ]
        }
      ],
      "source": [
        "### WRITE CODE HERE\n",
        "classifier = LogisticRegression(max_iter=1800)\n",
        "param_grid = {\n",
        "    'penalty': ['l1'],\n",
        "    'C': [0.5],\n",
        "    'solver': ['liblinear', 'saga']\n",
        "}\n",
        "grid_search = GridSearchCV(classifier, param_grid, cv=5, scoring='accuracy')\n",
        "grid_search.fit(X_train, y_train)\n",
        "\n",
        "best_params = grid_search.best_params_\n",
        "best_score = grid_search.best_score_\n",
        "print(\"Best Parameters:\", best_params)\n",
        "print(f'Best Score: {best_score:.4f}')\n",
        "\n",
        "best_classifier = grid_search.best_estimator_\n",
        "y_pred = best_classifier.predict(X_val)\n",
        "\n",
        "precision = my_precision(y_val_arr, y_pred)\n",
        "recall = my_recall(y_val_arr, y_pred)\n",
        "accuracy = my_accuracy(y_val_arr, y_pred)\n",
        "print(f'Precision: {precision:.4f}')\n",
        "print(f'Recall: {recall:.4f}')\n",
        "print(f'Accuracy: {accuracy:.4f}')"
      ]
    },
    {
      "cell_type": "markdown",
      "metadata": {
        "id": "pWQj9WiUVMHT"
      },
      "source": [
        "Build a model with hyperparameter 'C' set to 0.1 and penalty set to 'l2'. Make predictions on validation set and compute accuracy, precision and recall."
      ]
    },
    {
      "cell_type": "code",
      "execution_count": null,
      "metadata": {
        "id": "x6Tvpz7wVPAW",
        "colab": {
          "base_uri": "https://localhost:8080/"
        },
        "outputId": "871a59c9-afaa-4c07-df7a-048f15af8578"
      },
      "outputs": [
        {
          "output_type": "stream",
          "name": "stdout",
          "text": [
            "Best Parameters: {'C': 0.1, 'penalty': 'l2', 'solver': 'liblinear'}\n",
            "Best Score: 0.8124753061395211\n",
            "Precision: 0.6628\n",
            "Recall: 0.4222\n",
            "Accuracy: 0.8211\n"
          ]
        }
      ],
      "source": [
        "### WRITE CODE HERE\n",
        "classifier = LogisticRegression(max_iter=1800)\n",
        "param_grid = {\n",
        "    'penalty': ['l2'],\n",
        "    'C': [0.1],\n",
        "    'solver': ['liblinear', 'saga']\n",
        "}\n",
        "grid_search = GridSearchCV(classifier, param_grid, cv=5, scoring='accuracy')\n",
        "grid_search.fit(X_train, y_train)\n",
        "\n",
        "best_params = grid_search.best_params_\n",
        "best_score = grid_search.best_score_\n",
        "print(\"Best Parameters:\", best_params)\n",
        "print(f'Best Score: {best_score:.4f}')\n",
        "\n",
        "best_classifier = grid_search.best_estimator_\n",
        "y_pred = best_classifier.predict(X_val)\n",
        "\n",
        "precision = my_precision(y_val_arr, y_pred)\n",
        "recall = my_recall(y_val_arr, y_pred)\n",
        "accuracy = my_accuracy(y_val_arr, y_pred)\n",
        "print(f'Precision: {precision:.4f}')\n",
        "print(f'Recall: {recall:.4f}')\n",
        "print(f'Accuracy: {accuracy:.4f}')"
      ]
    },
    {
      "cell_type": "markdown",
      "metadata": {
        "id": "5ihWSDXiVWta"
      },
      "source": [
        "Build a model with hyperparameter 'C' set to 0.5 and penalty set to 'l2'. Make predictions on validation set and compute accuracy, precision and recall. (Try to use a different solver or increase the number of iterations if there is a ConvergenceWarning)"
      ]
    },
    {
      "cell_type": "code",
      "execution_count": null,
      "metadata": {
        "id": "9ggEfBX4VZdM",
        "colab": {
          "base_uri": "https://localhost:8080/"
        },
        "outputId": "7d1f0ef4-8da9-4bf5-eb3c-185ec3216f6a"
      },
      "outputs": [
        {
          "output_type": "stream",
          "name": "stdout",
          "text": [
            "Best Parameters: {'C': 0.5, 'penalty': 'l2', 'solver': 'liblinear'}\n",
            "Best Score: 0.8136\n",
            "Precision: 0.6648\n",
            "Recall: 0.4333\n",
            "Accuracy: 0.8227\n"
          ]
        }
      ],
      "source": [
        "### WRITE CODE HERE\n",
        "classifier = LogisticRegression(max_iter=1800)\n",
        "param_grid = {\n",
        "    'penalty': ['l2'],\n",
        "    'C': [0.5],\n",
        "    'solver': ['liblinear', 'saga']\n",
        "}\n",
        "grid_search = GridSearchCV(classifier, param_grid, cv=5, scoring='accuracy')\n",
        "grid_search.fit(X_train, y_train)\n",
        "\n",
        "best_params = grid_search.best_params_\n",
        "best_score = grid_search.best_score_\n",
        "print(\"Best Parameters:\", best_params)\n",
        "print(f'Best Score: {best_score:.4f}')\n",
        "\n",
        "best_classifier = grid_search.best_estimator_\n",
        "y_pred = best_classifier.predict(X_val)\n",
        "\n",
        "precision = my_precision(y_val_arr, y_pred)\n",
        "recall = my_recall(y_val_arr, y_pred)\n",
        "accuracy = my_accuracy(y_val_arr, y_pred)\n",
        "print(f'Precision: {precision:.4f}')\n",
        "print(f'Recall: {recall:.4f}')\n",
        "print(f'Accuracy: {accuracy:.4f}')"
      ]
    },
    {
      "cell_type": "markdown",
      "metadata": {
        "id": "bXnNF73CWpYz"
      },
      "source": [
        "**Analyzing which model is better?**\n",
        "\n",
        "If we focus on high recall, then the c = 0.5 and l1 penalty model will be the most optimal since it captures the most positives. On the other hand, the c = 0.1 and l1 penalty model has the best precision and accuracy. So we decide to run our prediction based on this model.\n"
      ]
    },
    {
      "cell_type": "markdown",
      "metadata": {
        "id": "dRBjfOnjXFMj"
      },
      "source": [
        "# Test set\n",
        "\n",
        "We have worked on training and validation dataset so far, but test data does not include the labels. Choose the best hyperparameter values as seen in previous section and build a model. We use this model to make predictions on test set."
      ]
    },
    {
      "cell_type": "code",
      "execution_count": null,
      "metadata": {
        "id": "vJWNXQvHXKuM"
      },
      "outputs": [],
      "source": [
        "# Construct your final logistic regression using the best hyperparameters obtained above (C and penalty) ###\n",
        "# return the prediction as \"y_pred\"\n",
        "X_test = X_test[X.columns]\n",
        "classifier = LogisticRegression(C=0.1, penalty='l1', solver='liblinear', max_iter=200)\n",
        "classifier.fit(X, y)\n",
        "\n",
        "# return the prediction as \"y_pred\"\n",
        "y_pred = classifier.predict(X_test)\n",
        "print(\"Predictions on the test set:\", y_pred)\n"
      ]
    }
  ],
  "metadata": {
    "colab": {
      "provenance": [],
      "include_colab_link": true
    },
    "kernelspec": {
      "display_name": "Python 3",
      "name": "python3"
    },
    "language_info": {
      "name": "python"
    }
  },
  "nbformat": 4,
  "nbformat_minor": 0
}